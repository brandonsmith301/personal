{
 "cells": [
  {
   "cell_type": "code",
   "execution_count": 90,
   "id": "fcb2fa12",
   "metadata": {},
   "outputs": [
    {
     "name": "stdout",
     "output_type": "stream",
     "text": [
      "0.05\n"
     ]
    }
   ],
   "source": [
    "import itertools\n",
    "\n",
    "sequences = itertools.permutations([1, 2, 3, 4, 5, 6], r=6)\n",
    "\n",
    "valid = 0\n",
    "total = 0\n",
    "\n",
    "for sequence in sequences:\n",
    "    if all(i in {2, 4, 6} for i in sequence[:3]):\n",
    "        valid += 1\n",
    "    total += 1\n",
    "    \n",
    "print(valid / total)"
   ]
  },
  {
   "cell_type": "code",
   "execution_count": null,
   "id": "d7a0eb57",
   "metadata": {},
   "outputs": [
    {
     "data": {
      "text/plain": [
       "12"
      ]
     },
     "execution_count": 86,
     "metadata": {},
     "output_type": "execute_result"
    }
   ],
   "source": []
  },
  {
   "cell_type": "code",
   "execution_count": null,
   "id": "7387d71b",
   "metadata": {},
   "outputs": [],
   "source": []
  }
 ],
 "metadata": {
  "kernelspec": {
   "display_name": "Python 3",
   "language": "python",
   "name": "python3"
  },
  "language_info": {
   "codemirror_mode": {
    "name": "ipython",
    "version": 3
   },
   "file_extension": ".py",
   "mimetype": "text/x-python",
   "name": "python",
   "nbconvert_exporter": "python",
   "pygments_lexer": "ipython3",
   "version": "3.11.0"
  }
 },
 "nbformat": 4,
 "nbformat_minor": 5
}
