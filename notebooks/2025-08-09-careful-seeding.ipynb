{
 "cells": [
  {
   "cell_type": "code",
   "execution_count": 1,
   "id": "a39bea5a",
   "metadata": {},
   "outputs": [],
   "source": [
    "import numpy as np\n",
    "import matplotlib.pyplot as plt\n",
    "from sklearn.datasets import make_blobs\n",
    "import copy\n",
    "import os\n",
    "\n",
    "np.set_printoptions(precision=3)\n",
    "\n",
    "# for colour palette\n",
    "colours = [\"#C96868\", \"#FADFA1\", \"#7EACB5\"]\n",
    "pallete = plt.cm.colors.ListedColormap(colours)\n",
    "\n",
    "# --- image main\n",
    "save_dir = \"../portfolio/themes/blog/static/images\"\n",
    "file_name = \"2025-08-09-careful-seeding\"\n",
    "\n",
    "# we will also set the random seed to 1\n",
    "seed = 1\n",
    "np.random.seed(seed)"
   ]
  },
  {
   "cell_type": "code",
   "execution_count": 3,
   "id": "20936ce0",
   "metadata": {},
   "outputs": [],
   "source": [
    "def phi(c, w, x, n, k):\n",
    "    error = 0\n",
    "    for i in range(n):\n",
    "        for j in range(k):\n",
    "            if w[i, j] == 1:\n",
    "                error += np.sum((c[j] - x[i]) ** 2)\n",
    "    return error / n"
   ]
  }
 ],
 "metadata": {
  "kernelspec": {
   "display_name": "Python 3",
   "language": "python",
   "name": "python3"
  },
  "language_info": {
   "codemirror_mode": {
    "name": "ipython",
    "version": 3
   },
   "file_extension": ".py",
   "mimetype": "text/x-python",
   "name": "python",
   "nbconvert_exporter": "python",
   "pygments_lexer": "ipython3",
   "version": "3.11.0"
  }
 },
 "nbformat": 4,
 "nbformat_minor": 5
}
